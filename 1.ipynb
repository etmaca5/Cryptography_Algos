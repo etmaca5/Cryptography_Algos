{
 "cells": [
  {
   "cell_type": "code",
   "execution_count": 2,
   "metadata": {},
   "outputs": [
    {
     "name": "stdout",
     "output_type": "stream",
     "text": [
      "The smallest representable floationg point number > 0 is 5e-324\n"
     ]
    }
   ],
   "source": [
    "# part 1a\n",
    "num = 1.0\n",
    "while num / 2 > 0:\n",
    "    num /= 2\n",
    "print(\"The smallest representable floationg point number > 0 is \" +str(num))"
   ]
  },
  {
   "cell_type": "code",
   "execution_count": 10,
   "metadata": {},
   "outputs": [
    {
     "name": "stdout",
     "output_type": "stream",
     "text": [
      "0.0\n",
      "5e-324\n"
     ]
    }
   ],
   "source": [
    "# part 1b\n",
    "# simply for testing\n",
    "x = 5e-324\n",
    "y = -1\n",
    "z = 1\n",
    "print((x+y)+ z)\n",
    "print(x + (y + z))"
   ]
  },
  {
   "cell_type": "code",
   "execution_count": 16,
   "metadata": {},
   "outputs": [
    {
     "name": "stdout",
     "output_type": "stream",
     "text": [
      "0.0\n",
      "5e-324\n"
     ]
    }
   ],
   "source": [
    "# part 1b\n",
    "# simply for testing\n",
    "x = 5e-324\n",
    "y = 1\n",
    "z = -1\n",
    "print((x+y)+ z)\n",
    "print(x + (y + z))"
   ]
  }
 ],
 "metadata": {
  "kernelspec": {
   "display_name": "Python 3",
   "language": "python",
   "name": "python3"
  },
  "language_info": {
   "codemirror_mode": {
    "name": "ipython",
    "version": 3
   },
   "file_extension": ".py",
   "mimetype": "text/x-python",
   "name": "python",
   "nbconvert_exporter": "python",
   "pygments_lexer": "ipython3",
   "version": "3.11.4"
  }
 },
 "nbformat": 4,
 "nbformat_minor": 2
}
